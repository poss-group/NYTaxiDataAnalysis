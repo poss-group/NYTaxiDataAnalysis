{
 "cells": [
  {
   "cell_type": "code",
   "execution_count": 1,
   "id": "f17d9f9e",
   "metadata": {},
   "outputs": [],
   "source": [
    "import pandas as pd\n",
    "import numpy as np\n",
    "import matplotlib.pyplot as plt\n",
    "import os\n",
    "from pprint import pprint\n",
    "from scipy.stats import invgamma\n",
    "from scipy.integrate import trapezoid\n",
    "from scipy.integrate import quad\n",
    "from matplotlib.lines import Line2D\n",
    "from scipy.optimize import curve_fit\n",
    "from IPython.display import clear_output, display\n",
    "from time import sleep\n",
    "import scipy.stats as st\n",
    "from scipy.special import gamma"
   ]
  },
  {
   "cell_type": "code",
   "execution_count": 2,
   "id": "55104d0e",
   "metadata": {},
   "outputs": [],
   "source": [
    "def read_in(paths, manhatten_ids):\n",
    "    dfs = []\n",
    "    for i,path in enumerate(paths):\n",
    "        clear_output(wait=True)\n",
    "        print(str(i+1) + \"/\" + str(len(paths)))\n",
    "        data = pd.read_csv(path)[[\"passenger_count\", \"trip_distance\", \"PULocationID\", \"DOLocationID\"]]\n",
    "        data = data[data[\"passenger_count\"] > 0]\n",
    "        data = data[data[\"trip_distance\"] > 0]\n",
    "        data = data[data[\"trip_distance\"] < 8]\n",
    "        data = data[data[\"PULocationID\"].isin(manhatten_ids) & data[\"DOLocationID\"].isin(manhatten_ids)]\n",
    "        dfs.append(data)\n",
    "        \n",
    "    return pd.concat(dfs)"
   ]
  },
  {
   "cell_type": "code",
   "execution_count": 3,
   "id": "c9a79c47",
   "metadata": {},
   "outputs": [
    {
     "name": "stdout",
     "output_type": "stream",
     "text": [
      "12/12\n"
     ]
    }
   ],
   "source": [
    "lookup_df = pd.read_csv(\"/project.dcf/poss/datasets/NYTaxiData/taxi+_zone_lookup.csv.gz\")\n",
    "manhatten_df = lookup_df[lookup_df[\"Borough\"] == \"Manhattan\"]\n",
    "manhatten_ids = manhatten_df[\"LocationID\"].values\n",
    "\n",
    "data_path = \"/project.dcf/poss/datasets/NYTaxiData/2018/\"\n",
    "files = []\n",
    "to_load_dirs = [\"Yellow\"]\n",
    "for root,subdirs,subfiles in os.walk(data_path):\n",
    "#     if \"Green\" in root or \"Yellow\" in root:\n",
    "    if any([e in root for e in to_load_dirs]):\n",
    "        for file in subfiles:\n",
    "            files.append(os.path.join(root, file))\n",
    "\n",
    "data = read_in(files, manhatten_ids)"
   ]
  },
  {
   "cell_type": "code",
   "execution_count": 4,
   "id": "4d2f613a",
   "metadata": {},
   "outputs": [
    {
     "name": "stdout",
     "output_type": "stream",
     "text": [
      "84844385\n"
     ]
    },
    {
     "data": {
      "text/html": [
       "<div>\n",
       "<style scoped>\n",
       "    .dataframe tbody tr th:only-of-type {\n",
       "        vertical-align: middle;\n",
       "    }\n",
       "\n",
       "    .dataframe tbody tr th {\n",
       "        vertical-align: top;\n",
       "    }\n",
       "\n",
       "    .dataframe thead th {\n",
       "        text-align: right;\n",
       "    }\n",
       "</style>\n",
       "<table border=\"1\" class=\"dataframe\">\n",
       "  <thead>\n",
       "    <tr style=\"text-align: right;\">\n",
       "      <th></th>\n",
       "      <th>passenger_count</th>\n",
       "      <th>trip_distance</th>\n",
       "      <th>PULocationID</th>\n",
       "      <th>DOLocationID</th>\n",
       "    </tr>\n",
       "  </thead>\n",
       "  <tbody>\n",
       "    <tr>\n",
       "      <th>7</th>\n",
       "      <td>1</td>\n",
       "      <td>1.19</td>\n",
       "      <td>229</td>\n",
       "      <td>161</td>\n",
       "    </tr>\n",
       "    <tr>\n",
       "      <th>9</th>\n",
       "      <td>1</td>\n",
       "      <td>3.10</td>\n",
       "      <td>234</td>\n",
       "      <td>50</td>\n",
       "    </tr>\n",
       "    <tr>\n",
       "      <th>10</th>\n",
       "      <td>1</td>\n",
       "      <td>1.68</td>\n",
       "      <td>244</td>\n",
       "      <td>42</td>\n",
       "    </tr>\n",
       "    <tr>\n",
       "      <th>11</th>\n",
       "      <td>1</td>\n",
       "      <td>4.00</td>\n",
       "      <td>239</td>\n",
       "      <td>244</td>\n",
       "    </tr>\n",
       "    <tr>\n",
       "      <th>12</th>\n",
       "      <td>1</td>\n",
       "      <td>0.60</td>\n",
       "      <td>68</td>\n",
       "      <td>246</td>\n",
       "    </tr>\n",
       "  </tbody>\n",
       "</table>\n",
       "</div>"
      ],
      "text/plain": [
       "    passenger_count  trip_distance  PULocationID  DOLocationID\n",
       "7                 1           1.19           229           161\n",
       "9                 1           3.10           234            50\n",
       "10                1           1.68           244            42\n",
       "11                1           4.00           239           244\n",
       "12                1           0.60            68           246"
      ]
     },
     "metadata": {},
     "output_type": "display_data"
    }
   ],
   "source": [
    "print(len(data))\n",
    "display(data.head())"
   ]
  },
  {
   "cell_type": "code",
   "execution_count": 5,
   "id": "80808586",
   "metadata": {},
   "outputs": [],
   "source": [
    "#Cleaning\n",
    "trip_dists = data[\"trip_distance\"]\n",
    "trip_dists = np.round(trip_dists, 2)\n",
    "trip_dists = trip_dists[~np.isin(trip_dists, np.round(np.linspace(0,8,81), 1))]\n",
    "\n",
    "trip_dists *= 1.609344\n",
    "trip_dists = trip_dists[trip_dists >= 0.5]\n",
    "trip_dists = trip_dists[trip_dists <= 12]\n",
    "\n",
    "# plt.figure()\n",
    "\n",
    "# plt.scatter(vals, counts, s=1)\n",
    "\n",
    "# plt.show()"
   ]
  },
  {
   "cell_type": "code",
   "execution_count": 6,
   "id": "f0ee760d",
   "metadata": {},
   "outputs": [],
   "source": [
    "# Create hist and renormalize distances / counts, create sample for faster fitting\n",
    "\n",
    "vals, counts = np.unique(trip_dists, return_counts=True)\n",
    "renorm = trip_dists.mean()\n",
    "vals = vals/renorm\n",
    "trip_dists /= renorm\n",
    "\n",
    "norm = trapezoid(counts, vals)\n",
    "counts = counts/norm\n",
    "\n",
    "sample = trip_dists.sample(10000)"
   ]
  },
  {
   "cell_type": "code",
   "execution_count": 7,
   "id": "6d40b978",
   "metadata": {},
   "outputs": [
    {
     "name": "stdout",
     "output_type": "stream",
     "text": [
      "(2.6128933682293853, 0, 1.7273584470388785)\n",
      "k =  3.6128933682293853\n"
     ]
    },
    {
     "name": "stderr",
     "output_type": "stream",
     "text": [
      "/scratch.local/hheuer/NYTaxiDataAnalysis/env/lib/python3.9/site-packages/scipy/stats/_distn_infrastructure.py:2606: RuntimeWarning: invalid value encountered in double_scalars\n",
      "  Lhat = muhat - Shat*mu\n"
     ]
    }
   ],
   "source": [
    "# Define custom inv gamma distribution and fit to data sample\n",
    "\n",
    "class taxi_dist_gen(st.rv_continuous):\n",
    "    def _pdf(self, x, k):\n",
    "        a = k-1\n",
    "        b = k-2\n",
    "        return b**a/gamma(a)*x**(-k)*np.exp(-b/x)\n",
    "#         return invgamma.pdf(x, k-1, 0, k-2)\n",
    "\n",
    "# taxi_dist = taxi_dist_gen(name='taxi_dist')\n",
    "\n",
    "params = invgamma.fit(sample, floc=0)#, fscale=1.)\n",
    "# params = taxi_dist.fit(sample)#, floc=0)#, fscale=1.)\n",
    "\n",
    "print(params)\n",
    "print(\"k = \", params[0]+1)"
   ]
  },
  {
   "cell_type": "code",
   "execution_count": 14,
   "id": "efba0934",
   "metadata": {
    "scrolled": false
   },
   "outputs": [
    {
     "data": {
      "image/png": "[encoded data removed]",
      "text/plain": [
       "<Figure size 432x288 with 1 Axes>"
      ]
     },
     "metadata": {
      "needs_background": "light"
     },
     "output_type": "display_data"
    }
   ],
   "source": [
    "%matplotlib inline\n",
    "fig, ax = plt.subplots(constrained_layout=True)\n",
    "\n",
    "# trip_dists.hist(bins=75, density=True, histtype=\"step\", grid=False, lw=2, ax=ax, color=\"blue\")\n",
    "ax.plot(vals, counts, \"o\", ms=1, label=\"Data\")\n",
    "\n",
    "x = np.linspace(0,vals[-1],1000)\n",
    "ax.plot(x, invgamma.pdf(x, *params), ls=\"--\", color=\"red\", label=\"Fit\")\n",
    "\n",
    "ax.set_xlabel(\"Travel Distance\")\n",
    "ax.set_ylabel(\"Probabiltiy Density\")\n",
    "ax.grid()\n",
    "\n",
    "ax.legend()\n",
    "ax.set_title('')\n",
    "\n",
    "# fig.savefig(\"InverseGammaFit.pgf\")\n",
    "plt.show()"
   ]
  },
  {
   "cell_type": "code",
   "execution_count": 15,
   "id": "73cce65b",
   "metadata": {},
   "outputs": [],
   "source": [
    "# Other distributions for testing\n",
    "class my_invgamma_gen(st.rv_continuous):\n",
    "    def _pdf(self, x, a):\n",
    "        return x**(-a-1)/gamma(a)*np.exp(-1/x)\n",
    "\n",
    "class gaussian_gen(st.rv_continuous):\n",
    "    \"Gaussian distribution\"\n",
    "    def _pdf(self, x):\n",
    "        return np.exp(-x**2 / 2.) / np.sqrt(2.0 * np.pi)\n",
    "    \n",
    "gaussian = gaussian_gen(name='gaussian')\n",
    "my_invgamma = my_invgamma_gen(name='my_invgamma')"
   ]
  },
  {
   "cell_type": "code",
   "execution_count": 16,
   "id": "7a9f0ea1",
   "metadata": {},
   "outputs": [
    {
     "name": "stderr",
     "output_type": "stream",
     "text": [
      "/scratch.local/hheuer/NYTaxiDataAnalysis/env/lib/python3.9/site-packages/scipy/stats/_distn_infrastructure.py:1837: IntegrationWarning: The integral is probably divergent, or slowly convergent.\n",
      "  return integrate.quad(self._pdf, _a, x, args=args)[0]\n"
     ]
    },
    {
     "name": "stdout",
     "output_type": "stream",
     "text": [
      "(3.6752163756882803, -0.13374637497992864, 3.0881451696594775)\n"
     ]
    },
    {
     "name": "stderr",
     "output_type": "stream",
     "text": [
      "/scratch.local/hheuer/NYTaxiDataAnalysis/env/lib/python3.9/site-packages/scipy/stats/_distn_infrastructure.py:1826: IntegrationWarning: The integral is probably divergent, or slowly convergent.\n",
      "  return integrate.quad(self._mom_integ1, 0, 1, args=(m,)+args)[0]\n",
      "/scratch.local/hheuer/NYTaxiDataAnalysis/env/lib/python3.9/site-packages/scipy/stats/_distn_infrastructure.py:2605: RuntimeWarning: invalid value encountered in sqrt\n",
      "  Shat = sqrt(mu2hat / mu2)\n"
     ]
    }
   ],
   "source": [
    "print(my_invgamma.fit(sample))\n",
    "# print(gaussian.fit(sample))"
   ]
  },
  {
   "cell_type": "code",
   "execution_count": 18,
   "id": "66c56e98",
   "metadata": {},
   "outputs": [
    {
     "name": "stdout",
     "output_type": "stream",
     "text": [
      "k =  3.8470311104476176\n"
     ]
    },
    {
     "name": "stderr",
     "output_type": "stream",
     "text": [
      "/tmp/ipykernel_2053161/4064127414.py:8: RuntimeWarning: divide by zero encountered in power\n",
      "  return b**a/gamma(a)*(x-c)**(-k)*np.exp(-b/(x-c))\n",
      "/tmp/ipykernel_2053161/4064127414.py:8: RuntimeWarning: divide by zero encountered in true_divide\n",
      "  return b**a/gamma(a)*(x-c)**(-k)*np.exp(-b/(x-c))\n",
      "/tmp/ipykernel_2053161/4064127414.py:8: RuntimeWarning: invalid value encountered in multiply\n",
      "  return b**a/gamma(a)*(x-c)**(-k)*np.exp(-b/(x-c))\n"
     ]
    },
    {
     "data": {
      "image/png": "[encoded data removed]",
      "text/plain": [
       "<Figure size 432x288 with 1 Axes>"
      ]
     },
     "metadata": {
      "needs_background": "light"
     },
     "output_type": "display_data"
    }
   ],
   "source": [
    "# Fit with least squares\n",
    "\n",
    "Δ = lambda z, k, α = 1, β=0: α * np.exp( -1 / (z-β) ) / (z-β)**k\n",
    "\n",
    "def mft_corrected(x, k, c=0):\n",
    "    a = k-1\n",
    "    b = k-2\n",
    "    return b**a/gamma(a)*(x-c)**(-k)*np.exp(-b/(x-c))\n",
    "\n",
    "\n",
    "func = mft_corrected\n",
    "popt, pcov = curve_fit(func, vals, counts, p0=[3])\n",
    "\n",
    "print(\"k = \", *popt)\n",
    "\n",
    "plt.figure()\n",
    "x = np.linspace(0, vals[-1], 1000)\n",
    "plt.plot(vals, counts, \"o\", ms=1)\n",
    "plt.plot(x, func(x, *popt))\n",
    "\n",
    "plt.grid()\n",
    "\n",
    "plt.show()"
   ]
  },
  {
   "cell_type": "code",
   "execution_count": 12,
   "id": "65834561",
   "metadata": {},
   "outputs": [
    {
     "name": "stdout",
     "output_type": "stream",
     "text": [
      "(0.9999999999947251, 1.463715716412215e-08)\n"
     ]
    }
   ],
   "source": [
    "print(quad(mft_corrected,0,np.infty,args=tuple(popt)))"
   ]
  },
  {
   "cell_type": "code",
   "execution_count": null,
   "id": "85297b0a",
   "metadata": {},
   "outputs": [],
   "source": []
  }
 ],
 "metadata": {
  "kernelspec": {
   "display_name": "Python 3 (ipykernel)",
   "language": "python",
   "name": "python3"
  },
  "language_info": {
   "codemirror_mode": {
    "name": "ipython",
    "version": 3
   },
   "file_extension": ".py",
   "mimetype": "text/x-python",
   "name": "python",
   "nbconvert_exporter": "python",
   "pygments_lexer": "ipython3",
   "version": "3.9.1"
  }
 },
 "nbformat": 4,
 "nbformat_minor": 5
}
