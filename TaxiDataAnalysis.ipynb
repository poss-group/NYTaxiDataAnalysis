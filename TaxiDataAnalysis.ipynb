{
 "cells": [
  {
   "cell_type": "code",
   "execution_count": null,
   "id": "f17d9f9e",
   "metadata": {},
   "outputs": [],
   "source": [
    "import pandas as pd\n",
    "import numpy as np\n",
    "import matplotlib.pyplot as plt\n",
    "import os\n",
    "from pprint import pprint\n",
    "from scipy.stats import invgamma\n",
    "from matplotlib.lines import Line2D\n",
    "from scipy.optimize import curve_fit"
   ]
  },
  {
   "cell_type": "code",
   "execution_count": null,
   "id": "55104d0e",
   "metadata": {},
   "outputs": [],
   "source": [
    "def read_in(paths, manhatten_ids):\n",
    "    dfs = []\n",
    "    for i,path in enumerate(paths):\n",
    "        print(str(i+1) + \"/\" + str(len(paths)))\n",
    "        data = pd.read_csv(path)[[\"trip_distance\", \"PULocationID\", \"DOLocationID\"]]\n",
    "        # Only take from/to manhatten trips\n",
    "        data = data[data[\"PULocationID\"].isin(manhatten_ids) & data[\"DOLocationID\"].isin(manhatten_ids)]\n",
    "        # Convert in km\n",
    "        data[\"trip_distance_km\"] = data[\"trip_distance\"] * 1.609\n",
    "        # Only take trips with distance > 0\n",
    "        data = data[data[\"trip_distance_km\"] > 0]\n",
    "        dfs.append(data)\n",
    "        \n",
    "    return pd.concat(dfs)"
   ]
  },
  {
   "cell_type": "code",
   "execution_count": null,
   "id": "c9a79c47",
   "metadata": {},
   "outputs": [],
   "source": [
    "path = \"/project.dcf/poss/datasets/NYTaxiData2019\"\n",
    "\n",
    "lookup_df = pd.read_csv(os.path.join(path, \"taxi+_zone_lookup.csv\"))\n",
    "manhatten_df = lookup_df[lookup_df[\"Borough\"] == \"Manhattan\"]\n",
    "manhatten_ids = manhatten_df[\"LocationID\"].values\n",
    "\n",
    "files = []\n",
    "for root,subdirs,subfiles in os.walk(path):\n",
    "    if \"Green\" in root or \"Yellow\" in root:\n",
    "        for file in subfiles:\n",
    "            files.append(os.path.join(root, file))\n",
    "\n",
    "data = read_in(files, manhatten_ids)"
   ]
  },
  {
   "cell_type": "code",
   "execution_count": null,
   "id": "4d2f613a",
   "metadata": {},
   "outputs": [],
   "source": [
    "print(len(data))\n",
    "display(data.head())"
   ]
  },
  {
   "cell_type": "code",
   "execution_count": null,
   "id": "6978d91f",
   "metadata": {},
   "outputs": [],
   "source": [
    "# Take only trips with distance less than 21 km (Manhatten is not max 21 km big)\n",
    "\n",
    "trip_dists = data[data[\"trip_distance_km\"] < 21][\"trip_distance_km\"]\n",
    "# trip_dists = trip_dists/trip_dists.mean()"
   ]
  },
  {
   "cell_type": "code",
   "execution_count": null,
   "id": "f0ee760d",
   "metadata": {},
   "outputs": [],
   "source": [
    "trip_dists /= trip_dists.mean()\n",
    "\n",
    "# take all dists or sample to save time fitting\n",
    "sample = trip_dists.sample(10000)\n",
    "# sample = trip_dists\n",
    "print(len(sample))"
   ]
  },
  {
   "cell_type": "code",
   "execution_count": null,
   "id": "6d40b978",
   "metadata": {},
   "outputs": [],
   "source": [
    "params = invgamma.fit(sample, floc=0, fscale=1.)"
   ]
  },
  {
   "cell_type": "code",
   "execution_count": null,
   "id": "efba0934",
   "metadata": {
    "scrolled": false
   },
   "outputs": [],
   "source": [
    "%matplotlib inline\n",
    "fig, ax = plt.subplots(constrained_layout=True)\n",
    "\n",
    "hist = trip_dists.hist(bins=75, density=True, histtype=\"step\", grid=False, lw=2, ax=ax, color=\"blue\", label=\"Data\")\n",
    "\n",
    "x = np.linspace(0,trip_dists.max(),1000)\n",
    "ax.plot(x, invgamma.pdf(x, *params), ls=\"--\", color=\"red\", label=\"Inverse-gamma Fit\")\n",
    "\n",
    "ax.set_xlabel(\"Travel Distance (km)\")\n",
    "ax.set_ylabel(\"Probabiltiy Density\")\n",
    "ax.grid()\n",
    "ax.legend()\n",
    "\n",
    "plt.show()"
   ]
  },
  {
   "cell_type": "code",
   "execution_count": null,
   "id": "63922bca",
   "metadata": {},
   "outputs": [],
   "source": [
    "print(params)\n",
    "print(\"k = \", params[0]+1)"
   ]
  },
  {
   "cell_type": "code",
   "execution_count": null,
   "id": "73cce65b",
   "metadata": {},
   "outputs": [],
   "source": [
    "# Try to define custom inv gamma function with constraints on alpa, beta\n",
    "# Does not work yet\n",
    "\n",
    "import scipy.stats as st\n",
    "from scipy.special import gamma\n",
    "\n",
    "class taxi_dist_gen(st.rv_continuous):\n",
    "\n",
    "    def _pdf(self, x, k):\n",
    "        a = k-1\n",
    "        b = k-2\n",
    "        return b**a/gamma(a)*x**(-k)*np.exp(-b/x)\n",
    "#         return invgamma.pdf(x, k-1, 0, k-2)"
   ]
  },
  {
   "cell_type": "code",
   "execution_count": null,
   "id": "7a9f0ea1",
   "metadata": {},
   "outputs": [],
   "source": [
    "taxi_dist = taxi_dist_gen(name='taxi_dist')\n",
    "taxi_params = taxi_dist.fit(sample)\n",
    "print(taxi_params)"
   ]
  },
  {
   "cell_type": "code",
   "execution_count": null,
   "id": "85297b0a",
   "metadata": {},
   "outputs": [],
   "source": []
  }
 ],
 "metadata": {
  "kernelspec": {
   "display_name": "Python 3 (ipykernel)",
   "language": "python",
   "name": "python3"
  },
  "language_info": {
   "codemirror_mode": {
    "name": "ipython",
    "version": 3
   },
   "file_extension": ".py",
   "mimetype": "text/x-python",
   "name": "python",
   "nbconvert_exporter": "python",
   "pygments_lexer": "ipython3",
   "version": "3.9.1"
  }
 },
 "nbformat": 4,
 "nbformat_minor": 5
}
